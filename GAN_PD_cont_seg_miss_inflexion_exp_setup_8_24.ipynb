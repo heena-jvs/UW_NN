{
 "cells": [
  {
   "cell_type": "code",
   "execution_count": 65,
   "metadata": {},
   "outputs": [],
   "source": [
    "# Necessary packages\n",
    "from __future__ import absolute_import\n",
    "from __future__ import division\n",
    "from __future__ import print_function\n",
    "\n",
    "import numpy as np\n",
    "import pandas as pd\n",
    "\n",
    "#from data_loader_random_missingness import data_loader\n",
    "from gain import gain\n",
    "from utils import rmse_loss"
   ]
  },
  {
   "cell_type": "code",
   "execution_count": 66,
   "metadata": {},
   "outputs": [],
   "source": [
    "#DATA PREPROCESSING FOR 3 hr segments with 5 min sliding window\n",
    "\n",
    "left_df = pd.read_csv(\"C:/Users/heena/Desktop/UW/UW_NN_Heena/HU_Done/UW_NN_Heena_improvised_codes/Clinical_Trial/Data/Training_data_GAIN_implementation/baseline_CT_more_than_100_primarykey.csv\") \n",
    "right_df = pd.read_csv('C:/Users/heena/Desktop/UW/UW_NN_Heena/HU_Done/UW_NN_Heena_improvised_codes/Clinical_Trial/Data/Original_Data/baseline_CT.csv')\n"
   ]
  },
  {
   "cell_type": "code",
   "execution_count": 67,
   "metadata": {},
   "outputs": [
    {
     "name": "stdout",
     "output_type": "stream",
     "text": [
      "                 id&date        Trial  Subject  Visit             DateTime  \\\n",
      "0      102004_2014-02-28  NN1218-3853   102004   1000  2014-02-28 00:03:45   \n",
      "1      102004_2014-02-28  NN1218-3853   102004   1000  2014-02-28 00:08:45   \n",
      "2      102004_2014-02-28  NN1218-3853   102004   1000  2014-02-28 00:13:45   \n",
      "3      102004_2014-02-28  NN1218-3853   102004   1000  2014-02-28 00:18:45   \n",
      "4      102004_2014-02-28  NN1218-3853   102004   1000  2014-02-28 00:23:45   \n",
      "...                  ...          ...      ...    ...                  ...   \n",
      "48091  502024_2014-04-25  NN1218-3853   502024   1000  2014-04-25 23:39:05   \n",
      "48092  502024_2014-04-25  NN1218-3853   502024   1000  2014-04-25 23:44:05   \n",
      "48093  502024_2014-04-25  NN1218-3853   502024   1000  2014-04-25 23:49:05   \n",
      "48094  502024_2014-04-25  NN1218-3853   502024   1000  2014-04-25 23:54:05   \n",
      "48095  502024_2014-04-25  NN1218-3853   502024   1000  2014-04-25 23:59:05   \n",
      "\n",
      "           Value    Unit Type      Treatment        date  month _merge  \n",
      "0       7.713651  mmol/L  CGM  Faster aspart  2014-02-28      2   both  \n",
      "1       7.214206  mmol/L  CGM  Faster aspart  2014-02-28      2   both  \n",
      "2       6.992231  mmol/L  CGM  Faster aspart  2014-02-28      2   both  \n",
      "3       7.325194  mmol/L  CGM  Faster aspart  2014-02-28      2   both  \n",
      "4       7.380688  mmol/L  CGM  Faster aspart  2014-02-28      2   both  \n",
      "...          ...     ...  ...            ...         ...    ...    ...  \n",
      "48091  15.538291  mmol/L  CGM      NovoRapid  2014-04-25      4   both  \n",
      "48092  15.538291  mmol/L  CGM      NovoRapid  2014-04-25      4   both  \n",
      "48093  15.538291  mmol/L  CGM      NovoRapid  2014-04-25      4   both  \n",
      "48094  15.538291  mmol/L  CGM      NovoRapid  2014-04-25      4   both  \n",
      "48095  15.593785  mmol/L  CGM      NovoRapid  2014-04-25      4   both  \n",
      "\n",
      "[48096 rows x 12 columns]\n"
     ]
    }
   ],
   "source": [
    "#left join to get baseline data for 100%completeness\n",
    "merged_df = left_df.merge(right_df, on='id&date', how='left', indicator=True)\n",
    "print(merged_df)\n",
    "merged_df.to_csv('baseline_100%_complete_data.csv')"
   ]
  },
  {
   "cell_type": "code",
   "execution_count": 68,
   "metadata": {},
   "outputs": [],
   "source": [
    "merged_df['DateTime']= pd.to_datetime(merged_df['DateTime'])\n",
    "merged_df['Value in mg/dl'] = merged_df['Value'].apply(lambda x: x*18)"
   ]
  },
  {
   "cell_type": "code",
   "execution_count": 69,
   "metadata": {},
   "outputs": [
    {
     "data": {
      "text/html": [
       "<div>\n",
       "<style scoped>\n",
       "    .dataframe tbody tr th:only-of-type {\n",
       "        vertical-align: middle;\n",
       "    }\n",
       "\n",
       "    .dataframe tbody tr th {\n",
       "        vertical-align: top;\n",
       "    }\n",
       "\n",
       "    .dataframe thead th {\n",
       "        text-align: right;\n",
       "    }\n",
       "</style>\n",
       "<table border=\"1\" class=\"dataframe\">\n",
       "  <thead>\n",
       "    <tr style=\"text-align: right;\">\n",
       "      <th></th>\n",
       "      <th>id&amp;date</th>\n",
       "      <th>Trial</th>\n",
       "      <th>Subject</th>\n",
       "      <th>Visit</th>\n",
       "      <th>DateTime</th>\n",
       "      <th>Value</th>\n",
       "      <th>Unit</th>\n",
       "      <th>Type</th>\n",
       "      <th>Treatment</th>\n",
       "      <th>date</th>\n",
       "      <th>month</th>\n",
       "      <th>_merge</th>\n",
       "      <th>Value in mg/dl</th>\n",
       "    </tr>\n",
       "  </thead>\n",
       "  <tbody>\n",
       "    <tr>\n",
       "      <th>0</th>\n",
       "      <td>102004_2014-02-28</td>\n",
       "      <td>NN1218-3853</td>\n",
       "      <td>102004</td>\n",
       "      <td>1000</td>\n",
       "      <td>2014-02-28 00:03:45</td>\n",
       "      <td>7.713651</td>\n",
       "      <td>mmol/L</td>\n",
       "      <td>CGM</td>\n",
       "      <td>Faster aspart</td>\n",
       "      <td>2014-02-28</td>\n",
       "      <td>2</td>\n",
       "      <td>both</td>\n",
       "      <td>138.845727</td>\n",
       "    </tr>\n",
       "    <tr>\n",
       "      <th>1</th>\n",
       "      <td>102004_2014-02-28</td>\n",
       "      <td>NN1218-3853</td>\n",
       "      <td>102004</td>\n",
       "      <td>1000</td>\n",
       "      <td>2014-02-28 00:08:45</td>\n",
       "      <td>7.214206</td>\n",
       "      <td>mmol/L</td>\n",
       "      <td>CGM</td>\n",
       "      <td>Faster aspart</td>\n",
       "      <td>2014-02-28</td>\n",
       "      <td>2</td>\n",
       "      <td>both</td>\n",
       "      <td>129.855716</td>\n",
       "    </tr>\n",
       "    <tr>\n",
       "      <th>2</th>\n",
       "      <td>102004_2014-02-28</td>\n",
       "      <td>NN1218-3853</td>\n",
       "      <td>102004</td>\n",
       "      <td>1000</td>\n",
       "      <td>2014-02-28 00:13:45</td>\n",
       "      <td>6.992231</td>\n",
       "      <td>mmol/L</td>\n",
       "      <td>CGM</td>\n",
       "      <td>Faster aspart</td>\n",
       "      <td>2014-02-28</td>\n",
       "      <td>2</td>\n",
       "      <td>both</td>\n",
       "      <td>125.860155</td>\n",
       "    </tr>\n",
       "    <tr>\n",
       "      <th>3</th>\n",
       "      <td>102004_2014-02-28</td>\n",
       "      <td>NN1218-3853</td>\n",
       "      <td>102004</td>\n",
       "      <td>1000</td>\n",
       "      <td>2014-02-28 00:18:45</td>\n",
       "      <td>7.325194</td>\n",
       "      <td>mmol/L</td>\n",
       "      <td>CGM</td>\n",
       "      <td>Faster aspart</td>\n",
       "      <td>2014-02-28</td>\n",
       "      <td>2</td>\n",
       "      <td>both</td>\n",
       "      <td>131.853496</td>\n",
       "    </tr>\n",
       "    <tr>\n",
       "      <th>4</th>\n",
       "      <td>102004_2014-02-28</td>\n",
       "      <td>NN1218-3853</td>\n",
       "      <td>102004</td>\n",
       "      <td>1000</td>\n",
       "      <td>2014-02-28 00:23:45</td>\n",
       "      <td>7.380688</td>\n",
       "      <td>mmol/L</td>\n",
       "      <td>CGM</td>\n",
       "      <td>Faster aspart</td>\n",
       "      <td>2014-02-28</td>\n",
       "      <td>2</td>\n",
       "      <td>both</td>\n",
       "      <td>132.852386</td>\n",
       "    </tr>\n",
       "    <tr>\n",
       "      <th>...</th>\n",
       "      <td>...</td>\n",
       "      <td>...</td>\n",
       "      <td>...</td>\n",
       "      <td>...</td>\n",
       "      <td>...</td>\n",
       "      <td>...</td>\n",
       "      <td>...</td>\n",
       "      <td>...</td>\n",
       "      <td>...</td>\n",
       "      <td>...</td>\n",
       "      <td>...</td>\n",
       "      <td>...</td>\n",
       "      <td>...</td>\n",
       "    </tr>\n",
       "    <tr>\n",
       "      <th>48091</th>\n",
       "      <td>502024_2014-04-25</td>\n",
       "      <td>NN1218-3853</td>\n",
       "      <td>502024</td>\n",
       "      <td>1000</td>\n",
       "      <td>2014-04-25 23:39:05</td>\n",
       "      <td>15.538291</td>\n",
       "      <td>mmol/L</td>\n",
       "      <td>CGM</td>\n",
       "      <td>NovoRapid</td>\n",
       "      <td>2014-04-25</td>\n",
       "      <td>4</td>\n",
       "      <td>both</td>\n",
       "      <td>279.689234</td>\n",
       "    </tr>\n",
       "    <tr>\n",
       "      <th>48092</th>\n",
       "      <td>502024_2014-04-25</td>\n",
       "      <td>NN1218-3853</td>\n",
       "      <td>502024</td>\n",
       "      <td>1000</td>\n",
       "      <td>2014-04-25 23:44:05</td>\n",
       "      <td>15.538291</td>\n",
       "      <td>mmol/L</td>\n",
       "      <td>CGM</td>\n",
       "      <td>NovoRapid</td>\n",
       "      <td>2014-04-25</td>\n",
       "      <td>4</td>\n",
       "      <td>both</td>\n",
       "      <td>279.689234</td>\n",
       "    </tr>\n",
       "    <tr>\n",
       "      <th>48093</th>\n",
       "      <td>502024_2014-04-25</td>\n",
       "      <td>NN1218-3853</td>\n",
       "      <td>502024</td>\n",
       "      <td>1000</td>\n",
       "      <td>2014-04-25 23:49:05</td>\n",
       "      <td>15.538291</td>\n",
       "      <td>mmol/L</td>\n",
       "      <td>CGM</td>\n",
       "      <td>NovoRapid</td>\n",
       "      <td>2014-04-25</td>\n",
       "      <td>4</td>\n",
       "      <td>both</td>\n",
       "      <td>279.689234</td>\n",
       "    </tr>\n",
       "    <tr>\n",
       "      <th>48094</th>\n",
       "      <td>502024_2014-04-25</td>\n",
       "      <td>NN1218-3853</td>\n",
       "      <td>502024</td>\n",
       "      <td>1000</td>\n",
       "      <td>2014-04-25 23:54:05</td>\n",
       "      <td>15.538291</td>\n",
       "      <td>mmol/L</td>\n",
       "      <td>CGM</td>\n",
       "      <td>NovoRapid</td>\n",
       "      <td>2014-04-25</td>\n",
       "      <td>4</td>\n",
       "      <td>both</td>\n",
       "      <td>279.689234</td>\n",
       "    </tr>\n",
       "    <tr>\n",
       "      <th>48095</th>\n",
       "      <td>502024_2014-04-25</td>\n",
       "      <td>NN1218-3853</td>\n",
       "      <td>502024</td>\n",
       "      <td>1000</td>\n",
       "      <td>2014-04-25 23:59:05</td>\n",
       "      <td>15.593785</td>\n",
       "      <td>mmol/L</td>\n",
       "      <td>CGM</td>\n",
       "      <td>NovoRapid</td>\n",
       "      <td>2014-04-25</td>\n",
       "      <td>4</td>\n",
       "      <td>both</td>\n",
       "      <td>280.688124</td>\n",
       "    </tr>\n",
       "  </tbody>\n",
       "</table>\n",
       "<p>48096 rows × 13 columns</p>\n",
       "</div>"
      ],
      "text/plain": [
       "                 id&date        Trial  Subject  Visit            DateTime  \\\n",
       "0      102004_2014-02-28  NN1218-3853   102004   1000 2014-02-28 00:03:45   \n",
       "1      102004_2014-02-28  NN1218-3853   102004   1000 2014-02-28 00:08:45   \n",
       "2      102004_2014-02-28  NN1218-3853   102004   1000 2014-02-28 00:13:45   \n",
       "3      102004_2014-02-28  NN1218-3853   102004   1000 2014-02-28 00:18:45   \n",
       "4      102004_2014-02-28  NN1218-3853   102004   1000 2014-02-28 00:23:45   \n",
       "...                  ...          ...      ...    ...                 ...   \n",
       "48091  502024_2014-04-25  NN1218-3853   502024   1000 2014-04-25 23:39:05   \n",
       "48092  502024_2014-04-25  NN1218-3853   502024   1000 2014-04-25 23:44:05   \n",
       "48093  502024_2014-04-25  NN1218-3853   502024   1000 2014-04-25 23:49:05   \n",
       "48094  502024_2014-04-25  NN1218-3853   502024   1000 2014-04-25 23:54:05   \n",
       "48095  502024_2014-04-25  NN1218-3853   502024   1000 2014-04-25 23:59:05   \n",
       "\n",
       "           Value    Unit Type      Treatment        date  month _merge  \\\n",
       "0       7.713651  mmol/L  CGM  Faster aspart  2014-02-28      2   both   \n",
       "1       7.214206  mmol/L  CGM  Faster aspart  2014-02-28      2   both   \n",
       "2       6.992231  mmol/L  CGM  Faster aspart  2014-02-28      2   both   \n",
       "3       7.325194  mmol/L  CGM  Faster aspart  2014-02-28      2   both   \n",
       "4       7.380688  mmol/L  CGM  Faster aspart  2014-02-28      2   both   \n",
       "...          ...     ...  ...            ...         ...    ...    ...   \n",
       "48091  15.538291  mmol/L  CGM      NovoRapid  2014-04-25      4   both   \n",
       "48092  15.538291  mmol/L  CGM      NovoRapid  2014-04-25      4   both   \n",
       "48093  15.538291  mmol/L  CGM      NovoRapid  2014-04-25      4   both   \n",
       "48094  15.538291  mmol/L  CGM      NovoRapid  2014-04-25      4   both   \n",
       "48095  15.593785  mmol/L  CGM      NovoRapid  2014-04-25      4   both   \n",
       "\n",
       "       Value in mg/dl  \n",
       "0          138.845727  \n",
       "1          129.855716  \n",
       "2          125.860155  \n",
       "3          131.853496  \n",
       "4          132.852386  \n",
       "...               ...  \n",
       "48091      279.689234  \n",
       "48092      279.689234  \n",
       "48093      279.689234  \n",
       "48094      279.689234  \n",
       "48095      280.688124  \n",
       "\n",
       "[48096 rows x 13 columns]"
      ]
     },
     "execution_count": 69,
     "metadata": {},
     "output_type": "execute_result"
    }
   ],
   "source": [
    "merged_df.groupby('id&date').apply(lambda x: x.sort_values('DateTime'))\n"
   ]
  },
  {
   "cell_type": "code",
   "execution_count": 70,
   "metadata": {},
   "outputs": [],
   "source": [
    "# merged_df_training = merged_df.groupby(['id&date'])['Value in mg/dl'].apply(list)\n",
    "# print(merged_df_training)\n"
   ]
  },
  {
   "cell_type": "code",
   "execution_count": null,
   "metadata": {},
   "outputs": [],
   "source": []
  },
  {
   "cell_type": "code",
   "execution_count": 71,
   "metadata": {},
   "outputs": [
    {
     "name": "stdout",
     "output_type": "stream",
     "text": [
      "167\n"
     ]
    }
   ],
   "source": [
    "merged_df_dict = merged_df_training.to_dict()\n",
    "#print(merged_df_dict)\n",
    "print(len(merged_df_dict.keys()))\n",
    "#print(\"167 patient days\")\n",
    "pd.DataFrame.from_dict(data=merged_df_dict, orient='index').to_csv('preprocess1_patient_day_mg_dl.csv', header=False)\n",
    "\n",
    "#start from here"
   ]
  },
  {
   "cell_type": "code",
   "execution_count": 72,
   "metadata": {},
   "outputs": [
    {
     "name": "stdout",
     "output_type": "stream",
     "text": [
      "                   0           1           2           3           4    \\\n",
      "0    102004_2014-02-28  138.845727  129.855716  125.860155  131.853496   \n",
      "1    102004_2014-03-01  159.822420  149.833518  159.822420  153.829079   \n",
      "2    102004_2014-03-04  187.791343  186.792453  190.788013  192.785794   \n",
      "3    102004_2014-03-07  298.668147  299.667037  308.657048  300.665927   \n",
      "4    102004_2014-03-08  182.796892  181.798002  180.799112  179.800222   \n",
      "..                 ...         ...         ...         ...         ...   \n",
      "162  502021_2014-04-25  233.740289  232.741398  231.742508  229.744728   \n",
      "163  502021_2014-04-26   77.913430   78.912320   81.908990   85.904550   \n",
      "164  502024_2014-04-17  248.723640  237.735849  228.745838  226.748058   \n",
      "165  502024_2014-04-24  236.736959  240.732519  239.733629  264.705882   \n",
      "166  502024_2014-04-25  233.740289  231.742508  227.746948  223.751387   \n",
      "\n",
      "            5           6           7           8           9    ...  \\\n",
      "0    132.852386  131.853496  130.854606  128.856826  127.857936  ...   \n",
      "1    153.829079  158.823529  163.817980  163.817980  160.821310  ...   \n",
      "2    191.786903  189.789123  185.793563  186.792453  189.789123  ...   \n",
      "3    299.667037  294.672586  282.685905  270.699223  260.710322  ...   \n",
      "4    178.801332  178.801332  177.802442  176.803552  163.817980  ...   \n",
      "..          ...         ...         ...         ...         ...  ...   \n",
      "162  225.749168  223.751387  221.753607  220.754717  218.756937  ...   \n",
      "163   89.900111   93.895671   97.891232  101.886792  106.881243  ...   \n",
      "164  228.745838  229.744728  225.749168  213.762486  195.782464  ...   \n",
      "165  265.704772  264.705882  265.704772  274.694784  284.683685  ...   \n",
      "166  223.751387  222.752497  225.749168  227.746948  229.744728  ...   \n",
      "\n",
      "            279         280         281         282         283         284  \\\n",
      "0    182.796892  177.802442  172.807991  169.811321  170.810211  168.812431   \n",
      "1    186.792453  184.794673  183.795782  181.798002  179.800222  176.803552   \n",
      "2    190.788013  190.788013  190.788013  191.786903  191.786903  191.786903   \n",
      "3    173.806881  179.800222  177.802442  183.795782  190.788013  194.783574   \n",
      "4    292.674806  287.680355  277.691454  266.703663  257.713651  250.721421   \n",
      "..          ...         ...         ...         ...         ...         ...   \n",
      "162   78.912320   78.912320   72.918979   79.911210   79.911210   80.910100   \n",
      "163  107.880133  111.875694  118.867925  122.863485  128.856826  131.853496   \n",
      "164  266.703663  263.706992  259.711432  258.712542  257.713651  254.716981   \n",
      "165  247.724750  244.728080  242.730300  241.731410  237.735849  236.736959   \n",
      "166  268.701443  270.699223  272.697003  277.691454  278.690344  279.689234   \n",
      "\n",
      "            285         286         287         288  \n",
      "0    169.811321  169.811321  170.810211  171.809101  \n",
      "1    174.805771  171.809101  164.816870  161.820200  \n",
      "2    192.785794  193.784684  193.784684  194.783574  \n",
      "3    192.785794  188.790233  185.793563  183.795782  \n",
      "4    239.733629  238.734739  238.734739  235.738069  \n",
      "..          ...         ...         ...         ...  \n",
      "162   79.911210   78.912320   75.915649   75.915649  \n",
      "163  136.847947  142.841287  145.837958  147.835738  \n",
      "164  254.716981  255.715871  252.719201  251.720311  \n",
      "165  237.735849  236.736959  237.735849  234.739179  \n",
      "166  279.689234  279.689234  279.689234  280.688124  \n",
      "\n",
      "[167 rows x 289 columns]\n"
     ]
    }
   ],
   "source": [
    "#reading in preprocessed data\n",
    "data_to_analyse = pd.read_csv(\"preprocess1_patient_day_mg_dl.csv\", header=None)\n",
    "print(data_to_analyse)"
   ]
  },
  {
   "cell_type": "code",
   "execution_count": 73,
   "metadata": {},
   "outputs": [],
   "source": [
    "training_size = 0.9\n",
    "training_rows = int( 0.9*len(data_to_analyse))\n",
    "testing_validation_rows = int((len(data_to_analyse) - training_rows)/2)\n",
    "\n",
    "\n",
    "\n",
    "# In[5]:\n",
    "\n",
    "\n",
    "merged_training = data_to_analyse.iloc[:training_rows,:] \n",
    "merged_validation = data_to_analyse.iloc[training_rows:training_rows + testing_validation_rows]\n",
    "merged_test = data_to_analyse.iloc[training_rows + testing_validation_rows:] \n"
   ]
  },
  {
   "cell_type": "code",
   "execution_count": 74,
   "metadata": {},
   "outputs": [
    {
     "name": "stdout",
     "output_type": "stream",
     "text": [
      "                   0           1           2           3           4    \\\n",
      "0    102004_2014-02-28  138.845727  129.855716  125.860155  131.853496   \n",
      "1    102004_2014-03-01  159.822420  149.833518  159.822420  153.829079   \n",
      "2    102004_2014-03-04  187.791343  186.792453  190.788013  192.785794   \n",
      "3    102004_2014-03-07  298.668147  299.667037  308.657048  300.665927   \n",
      "4    102004_2014-03-08  182.796892  181.798002  180.799112  179.800222   \n",
      "..                 ...         ...         ...         ...         ...   \n",
      "145  200003_2014-03-14  126.859046  128.856826  129.855716  130.854606   \n",
      "146  200003_2014-03-15  187.791343  160.821310  170.810211  166.814650   \n",
      "147  200003_2014-03-16  172.807991  175.804661  175.804661  177.802442   \n",
      "148  200003_2014-03-18  166.814650  165.815760  167.813541  167.813541   \n",
      "149  200005_2014-04-22  121.864595  120.865705  122.863485  120.865705   \n",
      "\n",
      "            5           6           7           8           9    ...  \\\n",
      "0    132.852386  131.853496  130.854606  128.856826  127.857936  ...   \n",
      "1    153.829079  158.823529  163.817980  163.817980  160.821310  ...   \n",
      "2    191.786903  189.789123  185.793563  186.792453  189.789123  ...   \n",
      "3    299.667037  294.672586  282.685905  270.699223  260.710322  ...   \n",
      "4    178.801332  178.801332  177.802442  176.803552  163.817980  ...   \n",
      "..          ...         ...         ...         ...         ...  ...   \n",
      "145  132.852386  128.856826  115.871254  118.867925  113.873474  ...   \n",
      "146  173.806881  173.806881  173.806881  168.812431  163.817980  ...   \n",
      "147  179.800222  180.799112  183.795782  186.792453  187.791343  ...   \n",
      "148  170.810211  177.802442  184.794673  187.791343  185.793563  ...   \n",
      "149  119.866815  118.867925  117.869034  115.871254  113.873474  ...   \n",
      "\n",
      "            279         280         281         282         283         284  \\\n",
      "0    182.796892  177.802442  172.807991  169.811321  170.810211  168.812431   \n",
      "1    186.792453  184.794673  183.795782  181.798002  179.800222  176.803552   \n",
      "2    190.788013  190.788013  190.788013  191.786903  191.786903  191.786903   \n",
      "3    173.806881  179.800222  177.802442  183.795782  190.788013  194.783574   \n",
      "4    292.674806  287.680355  277.691454  266.703663  257.713651  250.721421   \n",
      "..          ...         ...         ...         ...         ...         ...   \n",
      "145  229.744728  224.750277  219.755827  217.758047  213.762486  206.770255   \n",
      "146  172.807991  171.809101  170.810211  170.810211  170.810211  171.809101   \n",
      "147  201.775805  204.772475  208.768036  208.768036  208.768036  204.772475   \n",
      "148  192.785794  195.782464  198.779134  203.773585  207.769145  213.762486   \n",
      "149  187.791343  181.798002  176.803552  174.805771  169.811321  164.816870   \n",
      "\n",
      "            285         286         287         288  \n",
      "0    169.811321  169.811321  170.810211  171.809101  \n",
      "1    174.805771  171.809101  164.816870  161.820200  \n",
      "2    192.785794  193.784684  193.784684  194.783574  \n",
      "3    192.785794  188.790233  185.793563  183.795782  \n",
      "4    239.733629  238.734739  238.734739  235.738069  \n",
      "..          ...         ...         ...         ...  \n",
      "145  204.772475  198.779134  194.783574  194.783574  \n",
      "146  171.809101  171.809101  172.807991  171.809101  \n",
      "147  200.776915  198.779134  193.784684  187.791343  \n",
      "148  220.754717  228.745838  236.736959  240.732519  \n",
      "149  160.821310  157.824639  148.834628  142.841287  \n",
      "\n",
      "[150 rows x 289 columns]\n"
     ]
    }
   ],
   "source": [
    "print(merged_training)"
   ]
  },
  {
   "cell_type": "code",
   "execution_count": 98,
   "metadata": {},
   "outputs": [],
   "source": [
    "import numpy as np\n",
    "import math\n",
    "import pandas as pd\n",
    "from utils import binary_sampler\n",
    "from random import *\n",
    "\n",
    "\n",
    "def data_loader_updated(data_x):\n",
    "# Parameters\n",
    "    data_x = data_x.reshape(len(data_x),1)\n",
    "    window_segment = len(data_x)\n",
    "    no, dim = data_x.shape\n",
    "    \n",
    "    no_cont_values_missing = 8 #how many values are missing change from 4 to 8\n",
    "    data_m =  np.ones((no,dim),int)\n",
    "    \n",
    "    last_index_for_start_missing_index = window_segment - no_cont_values_missing\n",
    "    \n",
    "    start_index = randint(1, last_index_for_start_missing_index) \n",
    "    end_index = start_index + no_cont_values_missing\n",
    "    \n",
    "    data_m[start_index:end_index] = 0\n",
    "    miss_data_x = data_x.copy()\n",
    "    miss_data_x = miss_data_x.astype('float')\n",
    "    miss_data_x[start_index:end_index] = np.nan\n",
    "    \n",
    "    miss_data_x = np.squeeze(miss_data_x)\n",
    "    data_m = np.squeeze(data_m)\n",
    "    data_x = np.squeeze(data_x)\n",
    "    \n",
    "    return data_x, miss_data_x, data_m"
   ]
  },
  {
   "cell_type": "code",
   "execution_count": 99,
   "metadata": {
    "scrolled": false
   },
   "outputs": [
    {
     "name": "stdout",
     "output_type": "stream",
     "text": [
      "             1           2           3           4           5           6   \\\n",
      "150   86.903441   84.905660   82.907880   80.910100   79.911210   78.912320   \n",
      "151  130.854606  130.854606  130.854606  130.854606  133.851276  136.847947   \n",
      "152  132.852386  132.852386  132.852386  131.853496  131.853496  130.854606   \n",
      "153  151.831299  151.831299  150.832408  149.833518  147.835738  146.836848   \n",
      "154  185.793563  186.792453  185.793563  180.799112  177.802442  175.804661   \n",
      "155  142.841287  146.836848  147.835738  141.842397  129.855716  118.867925   \n",
      "156  136.847947  131.853496  127.857936  124.861265  121.864595  119.866815   \n",
      "157  169.811321  165.815760  162.819090  157.824639  152.830189  149.833518   \n",
      "\n",
      "             7           8           9           10          11          12  \n",
      "150   77.913430   77.913430   77.913430   76.914539   75.915649   74.916759  \n",
      "151  137.846837  137.846837  138.845727  138.845727  138.845727  138.845727  \n",
      "152  130.854606  129.855716  128.856826  124.861265  123.862375  122.863485  \n",
      "153  140.843507  145.837958  149.833518  150.832408  146.836848  144.839068  \n",
      "154  176.803552  171.809101  169.811321  158.823529  155.826859  156.825749  \n",
      "155  106.881243   93.895671   80.910100   70.921199   65.926748   65.926748  \n",
      "156  117.869034  116.870144  114.872364  114.872364  114.872364  114.872364  \n",
      "157  145.837958  142.841287  138.845727  136.847947  135.849057  134.850166  \n"
     ]
    }
   ],
   "source": [
    "print(merged_validation.iloc[0:9, 1:13])"
   ]
  },
  {
   "cell_type": "code",
   "execution_count": 100,
   "metadata": {},
   "outputs": [],
   "source": [
    "#from data_loader_updated import data_loader "
   ]
  },
  {
   "cell_type": "code",
   "execution_count": 101,
   "metadata": {},
   "outputs": [],
   "source": [
    "train_result_eachdf_data_x_numpy = np.empty([])\n",
    "train_result_eachdf_miss_data_x_numpy = np.empty([])\n",
    "train_result_eachdf_data_m_numpy = np.empty([])\n",
    "\n",
    "\n",
    "# list_data_x_train =  np.empty([])\n",
    "# list_miss_data_x_train =  np.empty([])\n",
    "# list_data_m_train =  np.empty([])\n",
    "\n",
    "window_segment_by_hour = 2\n",
    "CGM_within_window_segment = int(12*window_segment_by_hour)\n",
    "last_index_for_range_below = int (288/CGM_within_window_segment)\n",
    "\n",
    "start = 1\n",
    "for i in range(0, last_index_for_range_below): #we have total 288 points\n",
    "    #start = int ((CGM_within_window_segment)*i+1) #change here for how many hours in a row i.e 12 for 1 hour, go upto 24 hours i.e 288 points\n",
    "    end = int (start + CGM_within_window_segment)\n",
    "    data_train = merged_training.iloc[0:150, start:end]\n",
    "    data_train.to_numpy()\n",
    "    #result = data_loader_updated(data_train)\n",
    "    if train_result_eachdf_data_x_numpy.size == 1:\n",
    "        train_result_eachdf_data_x_numpy = data_train\n",
    "    else:\n",
    "        train_result_eachdf_data_x_numpy = np.vstack ((train_result_eachdf_data_x_numpy, data_train))    \n",
    "    start = start + 1\n",
    "#     if train_result_eachdf_miss_data_x_numpy.size == 1\n",
    "#         train_result_eachdf_miss_data_x_numpy = result[1]\n",
    "#     else:\n",
    "#         train_result_eachdf_miss_data_x_numpy = np.vstack ((train_result_eachdf_miss_data_x_numpy, result[1]))   \n",
    "        \n",
    "#     if train_result_eachdf_data_m_numpy.size == 1:\n",
    "#         train_result_eachdf_data_m_numpy = result[2]\n",
    "#     else:\n",
    "#         train_result_eachdf_data_m_numpy = np.vstack ((train_result_eachdf_data_m_numpy, result[2]))   \n",
    "    "
   ]
  },
  {
   "cell_type": "code",
   "execution_count": 102,
   "metadata": {},
   "outputs": [
    {
     "name": "stdout",
     "output_type": "stream",
     "text": [
      "[[138.84572697 129.85571587 125.86015538 ... 103.8845727  101.88679245\n",
      "   99.88901221]\n",
      " [159.82241953 149.83351831 159.82241953 ... 135.8490566  131.85349611\n",
      "  130.85460599]\n",
      " [187.79134295 186.79245284 190.78801331 ... 173.80688124 169.81132076\n",
      "  166.81465039]\n",
      " ...\n",
      " [184.79467258 184.79467258 185.79356271 ... 151.83129856 152.83018868\n",
      "  154.82796892]\n",
      " [183.79578247 189.7891232  192.78579357 ... 186.79245284 187.79134295\n",
      "  187.79134295]\n",
      " [108.87902331 106.88124306 104.88346282 ...  81.90899001  79.91120977\n",
      "   79.91120977]]\n"
     ]
    }
   ],
   "source": [
    "print(train_result_eachdf_data_x_numpy)\n",
    "pd.DataFrame(train_result_eachdf_data_x_numpy).to_csv('train_inflexion.csv')\n",
    "#create sliding window aftr this"
   ]
  },
  {
   "cell_type": "code",
   "execution_count": 103,
   "metadata": {},
   "outputs": [],
   "source": [
    "train_result_eachdf_miss_data_x_numpy = np.empty([])\n",
    "train_result_eachdf_data_m_numpy = np.empty([])\n",
    "\n",
    "\n",
    "for k in train_result_eachdf_data_x_numpy:\n",
    "    result = data_loader_updated(k)\n",
    "    if train_result_eachdf_miss_data_x_numpy.size == 1:\n",
    "        train_result_eachdf_miss_data_x_numpy = result[1]\n",
    "    else:\n",
    "        train_result_eachdf_miss_data_x_numpy = np.vstack ((train_result_eachdf_miss_data_x_numpy, result[1]))   \n",
    "\n",
    "    if train_result_eachdf_data_m_numpy.size == 1:\n",
    "        train_result_eachdf_data_m_numpy = result[2]\n",
    "    else:\n",
    "        train_result_eachdf_data_m_numpy = np.vstack ((train_result_eachdf_data_m_numpy, result[2]))  \n",
    "    "
   ]
  },
  {
   "cell_type": "code",
   "execution_count": 104,
   "metadata": {},
   "outputs": [],
   "source": [
    "\n",
    "\n",
    "\n",
    "#print(train_result_eachdf_miss_data_x_numpy[0:3,:])\n",
    "pd.DataFrame(train_result_eachdf_miss_data_x_numpy).to_csv('inflexion_miss.csv')\n"
   ]
  },
  {
   "cell_type": "code",
   "execution_count": 105,
   "metadata": {},
   "outputs": [],
   "source": [
    "# window_segment_by_hour = 2\n",
    "# CGM_within_window_segment = int(12*window_segment_by_hour)\n",
    "# last_index_for_range_below = int (288/CGM_within_window_segment)\n",
    "\n",
    "# val_result_eachdf_data_x_numpy = np.empty([])\n",
    "# val_result_eachdf_miss_data_x_numpy = np.empty([])\n",
    "# val_result_eachdf_data_m_numpy = np.empty([])\n",
    "\n",
    "\n",
    "# # list_data_x_val =  np.empty([])\n",
    "# # list_miss_data_x_val =  np.empty([])\n",
    "# # list_data_m_val =  np.empty([])\n",
    "# for i in range(0,24):\n",
    "#     start = 12*i+1\n",
    "#     end = start + 12\n",
    "#     data_val = merged_validation.iloc[0:8, start:end]\n",
    "#     data_val.to_numpy()\n",
    "#     #result = data_loader_updated(data_val)\n",
    "#     if val_result_eachdf_data_x_numpy.size == 1:\n",
    "#         val_result_eachdf_data_x_numpy = data_val\n",
    "#     else:\n",
    "#         val_result_eachdf_data_x_numpy = np.vstack ((val_result_eachdf_data_x_numpy, data_val)) "
   ]
  },
  {
   "cell_type": "code",
   "execution_count": 106,
   "metadata": {},
   "outputs": [],
   "source": [
    "val_result_eachdf_data_x_numpy = np.empty([])\n",
    "val_result_eachdf_miss_data_x_numpy = np.empty([])\n",
    "val_result_eachdf_data_m_numpy = np.empty([])\n",
    "\n",
    "\n",
    "window_segment_by_hour = 2\n",
    "CGM_within_window_segment = int(12*window_segment_by_hour)\n",
    "last_index_for_range_below = int (288/CGM_within_window_segment)\n",
    "\n",
    "start = 1\n",
    "for i in range(0, last_index_for_range_below): #we have total 288 points\n",
    "    #start = int ((CGM_within_window_segment)*i+1) #change here for how many hours in a row i.e 12 for 1 hour, go upto 24 hours i.e 288 points\n",
    "    end = int (start + CGM_within_window_segment)\n",
    "    data_val = merged_validation.iloc[0:8, start:end]\n",
    "    data_val.to_numpy()\n",
    "    #result = data_loader_updated(data_val)\n",
    "    if val_result_eachdf_data_x_numpy.size == 1:\n",
    "        val_result_eachdf_data_x_numpy = data_val\n",
    "    else:\n",
    "        val_result_eachdf_data_x_numpy = np.vstack ((val_result_eachdf_data_x_numpy, data_val))    \n",
    "    start = start + 1"
   ]
  },
  {
   "cell_type": "code",
   "execution_count": 107,
   "metadata": {},
   "outputs": [],
   "source": [
    "pd.DataFrame(val_result_eachdf_data_x_numpy).to_csv('inflexion_val.csv')"
   ]
  },
  {
   "cell_type": "code",
   "execution_count": 108,
   "metadata": {},
   "outputs": [],
   "source": [
    "val_result_eachdf_miss_data_x_numpy = np.empty([])\n",
    "val_result_eachdf_data_m_numpy = np.empty([])\n",
    "\n",
    "\n",
    "for k in val_result_eachdf_data_x_numpy:\n",
    "    result = data_loader_updated(k)\n",
    "    if val_result_eachdf_miss_data_x_numpy.size == 1:\n",
    "        val_result_eachdf_miss_data_x_numpy = result[1]\n",
    "    else:\n",
    "        val_result_eachdf_miss_data_x_numpy = np.vstack ((val_result_eachdf_miss_data_x_numpy, result[1]))   \n",
    "\n",
    "    if val_result_eachdf_data_m_numpy.size == 1:\n",
    "        val_result_eachdf_data_m_numpy = result[2]\n",
    "    else:\n",
    "        val_result_eachdf_data_m_numpy = np.vstack ((val_result_eachdf_data_m_numpy, result[2]))  "
   ]
  },
  {
   "cell_type": "code",
   "execution_count": 109,
   "metadata": {},
   "outputs": [
    {
     "name": "stdout",
     "output_type": "stream",
     "text": [
      "(96, 24)\n"
     ]
    }
   ],
   "source": [
    "print(val_result_eachdf_miss_data_x_numpy.shape)\n",
    "pd.DataFrame(val_result_eachdf_miss_data_x_numpy).to_csv('inflexion_val_miss.csv')"
   ]
  },
  {
   "cell_type": "code",
   "execution_count": 110,
   "metadata": {},
   "outputs": [
    {
     "name": "stdout",
     "output_type": "stream",
     "text": [
      "1800\n",
      "96\n"
     ]
    }
   ],
   "source": [
    "training_sample_size = train_result_eachdf_miss_data_x_numpy.shape[0]\n",
    "validation_sample_size = val_result_eachdf_miss_data_x_numpy.shape[0]\n",
    "print(training_sample_size)\n",
    "print(validation_sample_size)"
   ]
  },
  {
   "cell_type": "code",
   "execution_count": 112,
   "metadata": {},
   "outputs": [
    {
     "name": "stdout",
     "output_type": "stream",
     "text": [
      "11200\n"
     ]
    }
   ],
   "source": [
    "batch_size = 16\n",
    "iterations_per_epoch = int (training_sample_size/batch_size)\n",
    "total_epochs = 100\n",
    "Total_iterations = int (iterations_per_epoch * total_epochs)\n",
    "print(Total_iterations)\n",
    "gain_parameters = {'batch_size': 16, 'hint_rate_train': 0.9,'hint_rate_val': 0.5, 'alpha': 10, 'iterations': Total_iterations}"
   ]
  },
  {
   "cell_type": "code",
   "execution_count": 113,
   "metadata": {},
   "outputs": [
    {
     "name": "stderr",
     "output_type": "stream",
     "text": [
      "100%|████████████████████████████████████████████████████████████████████████████| 11200/11200 [22:42<00:00,  8.22it/s]\n"
     ]
    }
   ],
   "source": [
    "result_GAN = gain(train_result_eachdf_miss_data_x_numpy,val_result_eachdf_miss_data_x_numpy, gain_parameters)\n",
    "#print(result_GAN[0])\n"
   ]
  },
  {
   "cell_type": "code",
   "execution_count": 114,
   "metadata": {
    "scrolled": true
   },
   "outputs": [
    {
     "name": "stdout",
     "output_type": "stream",
     "text": [
      "0.24016674912740293\n"
     ]
    }
   ],
   "source": [
    "print(rmse_loss(train_result_eachdf_data_x_numpy, result_GAN[0], train_result_eachdf_data_m_numpy))"
   ]
  },
  {
   "cell_type": "code",
   "execution_count": 115,
   "metadata": {},
   "outputs": [],
   "source": [
    "pd.DataFrame(result_GAN[2]).to_csv('gan_imputed_val_epc40_8_24.csv')"
   ]
  },
  {
   "cell_type": "code",
   "execution_count": 116,
   "metadata": {},
   "outputs": [],
   "source": [
    "pd.DataFrame(result_GAN[0]).to_csv('gan_imputed_train_epc40_8_24.csv')"
   ]
  },
  {
   "cell_type": "code",
   "execution_count": 117,
   "metadata": {},
   "outputs": [],
   "source": [
    "train_result_eachdf_miss_data_x_df = pd.DataFrame (train_result_eachdf_miss_data_x_numpy)\n",
    "train_result_eachdf_miss_data_x_df.to_csv('train_miss_epc40_8_24.csv')\n",
    "train_result_eachdf_data_x_df = pd.DataFrame (train_result_eachdf_data_x_numpy)\n",
    "train_result_eachdf_data_x_df.to_csv('train_ori_epc40_8_24.csv')"
   ]
  },
  {
   "cell_type": "code",
   "execution_count": 118,
   "metadata": {},
   "outputs": [],
   "source": [
    "pd.DataFrame(train_result_eachdf_data_x_numpy).to_csv('original_data_epc40_8_24.csv')"
   ]
  },
  {
   "cell_type": "code",
   "execution_count": 119,
   "metadata": {},
   "outputs": [],
   "source": [
    "loss_curves = result_GAN[1]\n",
    "#print(loss_curves)"
   ]
  },
  {
   "cell_type": "code",
   "execution_count": 120,
   "metadata": {},
   "outputs": [],
   "source": [
    "D_loss_train = loss_curves['D_loss_train'] \n",
    "G_loss_train = loss_curves['G_loss_train'] \n",
    "G_loss_val = loss_curves['G_loss_val']"
   ]
  },
  {
   "cell_type": "code",
   "execution_count": 121,
   "metadata": {},
   "outputs": [
    {
     "data": {
      "image/png": "[encoded data removed]",
      "text/plain": [
       "<Figure size 432x288 with 1 Axes>"
      ]
     },
     "metadata": {
      "needs_background": "light"
     },
     "output_type": "display_data"
    }
   ],
   "source": [
    "import matplotlib\n",
    "import matplotlib.pyplot as pp\n",
    "from scipy.signal import lfilter\n",
    "\n",
    "n = 15  # the larger n is, the smoother curve will be\n",
    "b = [1.0 / n] * n\n",
    "a = 1\n",
    "yy = lfilter(b,a, D_loss_train)\n",
    "yy1 = lfilter(b,a, G_loss_train)\n",
    "yy2 = lfilter(b,a,G_loss_val)\n",
    "pp.plot(yy, linewidth=2, linestyle=\"-\", c=\"b\",label =\"D_loss_train\")  # smooth by filter\n",
    "pp.plot(yy1, linewidth=2, linestyle=\"-\", c=\"g\",label ='G_loss_train')\n",
    "pp.plot(yy2, linewidth=2, linestyle=\"-\", c=\"r\",label ='G_loss_val')\n",
    "pp.xlabel(\"every 100th iteration\")\n",
    "pp.ylabel(\"rmse\")\n",
    "pp.title(\"9000 total iterations\")\n",
    "pp.legend()\n",
    "pp.savefig('loss_curve_1hr_it100.png',format='png')"
   ]
  },
  {
   "cell_type": "code",
   "execution_count": 122,
   "metadata": {},
   "outputs": [
    {
     "name": "stdout",
     "output_type": "stream",
     "text": [
      "linear rmse\n",
      "0.015686247889913515\n"
     ]
    }
   ],
   "source": [
    "miss_data_x_train_df = pd.DataFrame(train_result_eachdf_miss_data_x_numpy)\n",
    "linear_imputed = miss_data_x_train_df.interpolate(method='linear', axis=1, limit_direction = 'both')\n",
    "linear_imputed_array = linear_imputed.to_numpy()\n",
    "\n",
    "print(\"linear rmse\")\n",
    "#  print(linear_imputed_array)\n",
    "linear_rmse = rmse_loss(train_result_eachdf_data_x_numpy, linear_imputed_array, train_result_eachdf_data_m_numpy)\n",
    "print(linear_rmse)"
   ]
  },
  {
   "cell_type": "code",
   "execution_count": null,
   "metadata": {},
   "outputs": [],
   "source": []
  }
 ],
 "metadata": {
  "kernelspec": {
   "display_name": "Python 3",
   "language": "python",
   "name": "python3"
  },
  "language_info": {
   "codemirror_mode": {
    "name": "ipython",
    "version": 3
   },
   "file_extension": ".py",
   "mimetype": "text/x-python",
   "name": "python",
   "nbconvert_exporter": "python",
   "pygments_lexer": "ipython3",
   "version": "3.6.10"
  }
 },
 "nbformat": 4,
 "nbformat_minor": 4
}
