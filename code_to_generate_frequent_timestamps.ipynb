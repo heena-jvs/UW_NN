{
 "cells": [
  {
   "cell_type": "code",
   "execution_count": 2,
   "metadata": {},
   "outputs": [],
   "source": [
    "import os\n",
    "import numpy as np\n",
    "import pandas as pd\n",
    "import csv"
   ]
  },
  {
   "cell_type": "code",
   "execution_count": 155,
   "metadata": {},
   "outputs": [
    {
     "name": "stdout",
     "output_type": "stream",
     "text": [
      "['45025419', '71397255', '78420229', '80501215', '94200862', '97872409']\n",
      "6\n"
     ]
    }
   ],
   "source": [
    "list_of_files_for_running_GAIN_LR_implementation = []\n",
    "for participant in os.listdir(r'C:\\Users\\heena\\Desktop\\UW\\UW_NN_Heena\\HU_Done\\UW_NN_Heena_improvised_codes\\data\\DATA_IOB_COB_BG_EBG_rate\\dvc_stat_eq_2'):\n",
    "    if participant.endswith(\".csv\"): \n",
    "        list_of_files_for_running_GAIN_LR_implementation.append(participant[:-4])\n",
    "print (list_of_files_for_running_GAIN_LR_implementation)\n",
    "print (len(list_of_files_for_running_GAIN_LR_implementation))"
   ]
  },
  {
   "cell_type": "code",
   "execution_count": 156,
   "metadata": {},
   "outputs": [],
   "source": [
    "participants_with_respective_frequent_timestamps_chunks = {}\n",
    "participants_with_respective_frequent_timestamps_chunks_length = {}\n",
    "for participant in list_of_files_for_running_GAIN_LR_implementation:\n",
    "    list_of_frequent_timestamps_chunks_for_each_participant=[]  #value for above dict\n",
    "    frequent_timestamps = []\n",
    "    len_of_timestamps = []\n",
    "    data = pd.read_csv('C:/Users/heena/Desktop/UW/UW_NN_Heena/HU_Done/UW_NN_Heena_improvised_codes/data/DATA_IOB_COB_BG_EBG_rate/dvc_stat_eq_2/' + participant + '.csv')\n",
    "    for index, row in data.iterrows():    \n",
    "        if row['openaps/enacted/timedelta'] <=700.0:\n",
    "            frequent_timestamps.append(row)\n",
    "        else:\n",
    "            if len (frequent_timestamps) >0: \n",
    "                list_of_frequent_timestamps_chunks_for_each_participant.append(frequent_timestamps)\n",
    "                len_of_timestamps.append(len(frequent_timestamps)) \n",
    "            frequent_timestamps = []  \n",
    "    if len (frequent_timestamps) >0:         \n",
    "        list_of_frequent_timestamps_chunks_for_each_participant.append(frequent_timestamps)   \n",
    "        len_of_timestamps.append(len(frequent_timestamps)) \n",
    "        \n",
    "    if len(list_of_frequent_timestamps_chunks_for_each_participant) >0: \n",
    "        participants_with_respective_frequent_timestamps_chunks[participant] = list_of_frequent_timestamps_chunks_for_each_participant\n",
    "        participants_with_respective_frequent_timestamps_chunks_length[participant] = len_of_timestamps"
   ]
  },
  {
   "cell_type": "code",
   "execution_count": 157,
   "metadata": {},
   "outputs": [],
   "source": [
    "def FindMaxLength(lst): \n",
    "    maxList = max(lst, key = lambda i: len(i)) \n",
    "    maxLength = len(maxList) \n",
    "    return maxList, maxLength"
   ]
  },
  {
   "cell_type": "code",
   "execution_count": 158,
   "metadata": {},
   "outputs": [],
   "source": [
    "most_frequent_timestamp_each_participant = {}\n",
    "for participant in participants_with_respective_frequent_timestamps_chunks:\n",
    "    value = FindMaxLength (participants_with_respective_frequent_timestamps_chunks[participant])\n",
    "    most_frequent_timestamp_each_participant[participant] = value   "
   ]
  },
  {
   "cell_type": "code",
   "execution_count": 159,
   "metadata": {},
   "outputs": [
    {
     "name": "stdout",
     "output_type": "stream",
     "text": [
      "22\n",
      "15\n",
      "27\n",
      "26\n",
      "7\n",
      "47\n"
     ]
    }
   ],
   "source": [
    "for participant in most_frequent_timestamp_each_participant:\n",
    "    print (most_frequent_timestamp_each_participant[participant][1])"
   ]
  },
  {
   "cell_type": "code",
   "execution_count": 148,
   "metadata": {},
   "outputs": [],
   "source": [
    "from pandas import DataFrame\n",
    "for participant in most_frequent_timestamp_each_participant:\n",
    "    if most_frequent_timestamp_each_participant[participant][1] >50:\n",
    "        data = DataFrame(most_frequent_timestamp_each_participant[participant][0][:51])\n",
    "        data['openaps/enacted/cum/timedelta'] = data['openaps/enacted/timedelta'].cumsum()\n",
    "        data.to_csv('data/dvc_stat_eq_2/'+participant + '.csv', index=False)\n"
   ]
  },
  {
   "cell_type": "code",
   "execution_count": 149,
   "metadata": {},
   "outputs": [],
   "source": [
    "import pandas\n",
    "from pandas import DataFrame\n",
    "most_frequent_timestamps_combined_across_participants=pd.DataFrame()\n",
    "for participant in os.listdir(r'C:\\Users\\heena\\Desktop\\UW\\UW_NN_Heena\\HU_Done\\UW_NN_Heena_improvised_codes\\frequent_timestamps\\data\\dvc_stat_eq_2'):\n",
    "    if participant.endswith(\".csv\"): \n",
    "        data = pd.read_csv('C:/Users/heena/Desktop/UW/UW_NN_Heena/HU_Done/UW_NN_Heena_improvised_codes/frequent_timestamps/data/dvc_stat_eq_2/' + participant)\n",
    "        most_frequent_timestamps_combined_across_participants=pd.concat([most_frequent_timestamps_combined_across_participants, data], ignore_index=True)"
   ]
  },
  {
   "cell_type": "code",
   "execution_count": 150,
   "metadata": {},
   "outputs": [
    {
     "name": "stdout",
     "output_type": "stream",
     "text": [
      "     openaps/enacted/bg  openaps/enacted/eventualBG  openaps/enacted/IOB  \\\n",
      "0                 240.0                       210.0                0.571   \n",
      "1                 252.0                       282.0                0.387   \n",
      "2                 252.0                       282.0                0.383   \n",
      "3                 242.0                       207.0                0.349   \n",
      "4                 248.0                       243.0                0.312   \n",
      "..                  ...                         ...                  ...   \n",
      "505                84.0                       140.0                0.082   \n",
      "506               101.0                       143.0                0.067   \n",
      "507               101.0                       143.0                0.063   \n",
      "508               120.0                       173.0                0.040   \n",
      "509               126.0                       168.0                0.027   \n",
      "\n",
      "     openaps/enacted/COB  openaps/enacted/rate  openaps/enacted/timedelta  \\\n",
      "0                    0.0                 0.000                       86.0   \n",
      "1                    0.0                 0.000                      201.0   \n",
      "2                    0.0                 0.000                       87.0   \n",
      "3                    0.0                 0.000                      218.0   \n",
      "4                    0.0                 0.000                      289.0   \n",
      "..                   ...                   ...                        ...   \n",
      "505                 17.0                 0.275                      346.0   \n",
      "506                 12.0                 0.275                      137.0   \n",
      "507                 12.0                 0.275                       57.0   \n",
      "508                  7.0                 0.275                      282.0   \n",
      "509                  5.0                 0.275                      221.0   \n",
      "\n",
      "     openaps/enacted/cum/timedelta  \n",
      "0                             86.0  \n",
      "1                            287.0  \n",
      "2                            374.0  \n",
      "3                            592.0  \n",
      "4                            881.0  \n",
      "..                             ...  \n",
      "505                         7061.0  \n",
      "506                         7198.0  \n",
      "507                         7255.0  \n",
      "508                         7537.0  \n",
      "509                         7758.0  \n",
      "\n",
      "[510 rows x 7 columns]\n"
     ]
    }
   ],
   "source": [
    "print(most_frequent_timestamps_combined_across_participants)"
   ]
  },
  {
   "cell_type": "code",
   "execution_count": 151,
   "metadata": {},
   "outputs": [],
   "source": [
    "most_frequent_timestamps_combined_across_participants.to_csv('data/dvc_stat_eq_2/all_combined.csv', index=False)"
   ]
  },
  {
   "cell_type": "code",
   "execution_count": 3,
   "metadata": {},
   "outputs": [],
   "source": [
    "import pandas\n",
    "from pandas import DataFrame\n",
    "most_frequent_timestamps_combined_across_participants=pandas.DataFrame()\n",
    "for participant in os.listdir(r'C:\\Users\\heena\\Desktop\\UW\\UW_NN_Heena\\HU_Done\\UW_NN_Heena_improvised_codes\\frequent_timestamps\\data\\all_data'):\n",
    "    if participant.endswith(\".csv\"): \n",
    "        data = pandas.read_csv('C:/Users/heena/Desktop/UW/UW_NN_Heena/HU_Done/UW_NN_Heena_improvised_codes/frequent_timestamps/data/all_data/' + participant)\n",
    "        most_frequent_timestamps_combined_across_participants=pandas.concat([most_frequent_timestamps_combined_across_participants, data], ignore_index=True)"
   ]
  },
  {
   "cell_type": "code",
   "execution_count": 4,
   "metadata": {},
   "outputs": [],
   "source": [
    "most_frequent_timestamps_combined_across_participants.to_csv('data/all_data/all_combined.csv', index=False)"
   ]
  },
  {
   "cell_type": "code",
   "execution_count": null,
   "metadata": {},
   "outputs": [],
   "source": []
  }
 ],
 "metadata": {
  "kernelspec": {
   "display_name": "Python 3",
   "language": "python",
   "name": "python3"
  },
  "language_info": {
   "codemirror_mode": {
    "name": "ipython",
    "version": 3
   },
   "file_extension": ".py",
   "mimetype": "text/x-python",
   "name": "python",
   "nbconvert_exporter": "python",
   "pygments_lexer": "ipython3",
   "version": "3.7.6"
  }
 },
 "nbformat": 4,
 "nbformat_minor": 4
}
